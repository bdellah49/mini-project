{
 "cells": [
  {
   "cell_type": "markdown",
   "id": "ea1f2997",
   "metadata": {},
   "source": [
    "# EXERCICE 01"
   ]
  },
  {
   "cell_type": "code",
   "execution_count": 30,
   "id": "e0abe3a7",
   "metadata": {},
   "outputs": [],
   "source": [
    "import pandas as pd\n",
    "from sklearn.model_selection import cross_val_score\n",
    "from sklearn.model_selection import train_test_split\n",
    "from sklearn.linear_model import LogisticRegression\n",
    "from sklearn.metrics import accuracy_score"
   ]
  },
  {
   "cell_type": "code",
   "execution_count": 47,
   "id": "9d64dbc9",
   "metadata": {},
   "outputs": [],
   "source": [
    "spambase_data = pd.read_csv(r'C:\\Users\\hp\\Desktop\\study\\m1\\apprentissage\\TP2\\TP02_DataSet\\spambase\\spambase.data',header=None)"
   ]
  },
  {
   "cell_type": "markdown",
   "id": "187f61bf",
   "metadata": {},
   "source": [
    "reading the data"
   ]
  },
  {
   "cell_type": "code",
   "execution_count": 48,
   "id": "a9a74dec",
   "metadata": {},
   "outputs": [
    {
     "data": {
      "text/html": [
       "<div>\n",
       "<style scoped>\n",
       "    .dataframe tbody tr th:only-of-type {\n",
       "        vertical-align: middle;\n",
       "    }\n",
       "\n",
       "    .dataframe tbody tr th {\n",
       "        vertical-align: top;\n",
       "    }\n",
       "\n",
       "    .dataframe thead th {\n",
       "        text-align: right;\n",
       "    }\n",
       "</style>\n",
       "<table border=\"1\" class=\"dataframe\">\n",
       "  <thead>\n",
       "    <tr style=\"text-align: right;\">\n",
       "      <th></th>\n",
       "      <th>0</th>\n",
       "      <th>1</th>\n",
       "      <th>2</th>\n",
       "      <th>3</th>\n",
       "      <th>4</th>\n",
       "      <th>5</th>\n",
       "      <th>6</th>\n",
       "      <th>7</th>\n",
       "      <th>8</th>\n",
       "      <th>9</th>\n",
       "      <th>...</th>\n",
       "      <th>48</th>\n",
       "      <th>49</th>\n",
       "      <th>50</th>\n",
       "      <th>51</th>\n",
       "      <th>52</th>\n",
       "      <th>53</th>\n",
       "      <th>54</th>\n",
       "      <th>55</th>\n",
       "      <th>56</th>\n",
       "      <th>57</th>\n",
       "    </tr>\n",
       "  </thead>\n",
       "  <tbody>\n",
       "    <tr>\n",
       "      <th>0</th>\n",
       "      <td>0.00</td>\n",
       "      <td>0.64</td>\n",
       "      <td>0.64</td>\n",
       "      <td>0.0</td>\n",
       "      <td>0.32</td>\n",
       "      <td>0.00</td>\n",
       "      <td>0.00</td>\n",
       "      <td>0.00</td>\n",
       "      <td>0.00</td>\n",
       "      <td>0.00</td>\n",
       "      <td>...</td>\n",
       "      <td>0.000</td>\n",
       "      <td>0.000</td>\n",
       "      <td>0.0</td>\n",
       "      <td>0.778</td>\n",
       "      <td>0.000</td>\n",
       "      <td>0.000</td>\n",
       "      <td>3.756</td>\n",
       "      <td>61</td>\n",
       "      <td>278</td>\n",
       "      <td>1</td>\n",
       "    </tr>\n",
       "    <tr>\n",
       "      <th>1</th>\n",
       "      <td>0.21</td>\n",
       "      <td>0.28</td>\n",
       "      <td>0.50</td>\n",
       "      <td>0.0</td>\n",
       "      <td>0.14</td>\n",
       "      <td>0.28</td>\n",
       "      <td>0.21</td>\n",
       "      <td>0.07</td>\n",
       "      <td>0.00</td>\n",
       "      <td>0.94</td>\n",
       "      <td>...</td>\n",
       "      <td>0.000</td>\n",
       "      <td>0.132</td>\n",
       "      <td>0.0</td>\n",
       "      <td>0.372</td>\n",
       "      <td>0.180</td>\n",
       "      <td>0.048</td>\n",
       "      <td>5.114</td>\n",
       "      <td>101</td>\n",
       "      <td>1028</td>\n",
       "      <td>1</td>\n",
       "    </tr>\n",
       "    <tr>\n",
       "      <th>2</th>\n",
       "      <td>0.06</td>\n",
       "      <td>0.00</td>\n",
       "      <td>0.71</td>\n",
       "      <td>0.0</td>\n",
       "      <td>1.23</td>\n",
       "      <td>0.19</td>\n",
       "      <td>0.19</td>\n",
       "      <td>0.12</td>\n",
       "      <td>0.64</td>\n",
       "      <td>0.25</td>\n",
       "      <td>...</td>\n",
       "      <td>0.010</td>\n",
       "      <td>0.143</td>\n",
       "      <td>0.0</td>\n",
       "      <td>0.276</td>\n",
       "      <td>0.184</td>\n",
       "      <td>0.010</td>\n",
       "      <td>9.821</td>\n",
       "      <td>485</td>\n",
       "      <td>2259</td>\n",
       "      <td>1</td>\n",
       "    </tr>\n",
       "    <tr>\n",
       "      <th>3</th>\n",
       "      <td>0.00</td>\n",
       "      <td>0.00</td>\n",
       "      <td>0.00</td>\n",
       "      <td>0.0</td>\n",
       "      <td>0.63</td>\n",
       "      <td>0.00</td>\n",
       "      <td>0.31</td>\n",
       "      <td>0.63</td>\n",
       "      <td>0.31</td>\n",
       "      <td>0.63</td>\n",
       "      <td>...</td>\n",
       "      <td>0.000</td>\n",
       "      <td>0.137</td>\n",
       "      <td>0.0</td>\n",
       "      <td>0.137</td>\n",
       "      <td>0.000</td>\n",
       "      <td>0.000</td>\n",
       "      <td>3.537</td>\n",
       "      <td>40</td>\n",
       "      <td>191</td>\n",
       "      <td>1</td>\n",
       "    </tr>\n",
       "    <tr>\n",
       "      <th>4</th>\n",
       "      <td>0.00</td>\n",
       "      <td>0.00</td>\n",
       "      <td>0.00</td>\n",
       "      <td>0.0</td>\n",
       "      <td>0.63</td>\n",
       "      <td>0.00</td>\n",
       "      <td>0.31</td>\n",
       "      <td>0.63</td>\n",
       "      <td>0.31</td>\n",
       "      <td>0.63</td>\n",
       "      <td>...</td>\n",
       "      <td>0.000</td>\n",
       "      <td>0.135</td>\n",
       "      <td>0.0</td>\n",
       "      <td>0.135</td>\n",
       "      <td>0.000</td>\n",
       "      <td>0.000</td>\n",
       "      <td>3.537</td>\n",
       "      <td>40</td>\n",
       "      <td>191</td>\n",
       "      <td>1</td>\n",
       "    </tr>\n",
       "    <tr>\n",
       "      <th>...</th>\n",
       "      <td>...</td>\n",
       "      <td>...</td>\n",
       "      <td>...</td>\n",
       "      <td>...</td>\n",
       "      <td>...</td>\n",
       "      <td>...</td>\n",
       "      <td>...</td>\n",
       "      <td>...</td>\n",
       "      <td>...</td>\n",
       "      <td>...</td>\n",
       "      <td>...</td>\n",
       "      <td>...</td>\n",
       "      <td>...</td>\n",
       "      <td>...</td>\n",
       "      <td>...</td>\n",
       "      <td>...</td>\n",
       "      <td>...</td>\n",
       "      <td>...</td>\n",
       "      <td>...</td>\n",
       "      <td>...</td>\n",
       "      <td>...</td>\n",
       "    </tr>\n",
       "    <tr>\n",
       "      <th>4596</th>\n",
       "      <td>0.31</td>\n",
       "      <td>0.00</td>\n",
       "      <td>0.62</td>\n",
       "      <td>0.0</td>\n",
       "      <td>0.00</td>\n",
       "      <td>0.31</td>\n",
       "      <td>0.00</td>\n",
       "      <td>0.00</td>\n",
       "      <td>0.00</td>\n",
       "      <td>0.00</td>\n",
       "      <td>...</td>\n",
       "      <td>0.000</td>\n",
       "      <td>0.232</td>\n",
       "      <td>0.0</td>\n",
       "      <td>0.000</td>\n",
       "      <td>0.000</td>\n",
       "      <td>0.000</td>\n",
       "      <td>1.142</td>\n",
       "      <td>3</td>\n",
       "      <td>88</td>\n",
       "      <td>0</td>\n",
       "    </tr>\n",
       "    <tr>\n",
       "      <th>4597</th>\n",
       "      <td>0.00</td>\n",
       "      <td>0.00</td>\n",
       "      <td>0.00</td>\n",
       "      <td>0.0</td>\n",
       "      <td>0.00</td>\n",
       "      <td>0.00</td>\n",
       "      <td>0.00</td>\n",
       "      <td>0.00</td>\n",
       "      <td>0.00</td>\n",
       "      <td>0.00</td>\n",
       "      <td>...</td>\n",
       "      <td>0.000</td>\n",
       "      <td>0.000</td>\n",
       "      <td>0.0</td>\n",
       "      <td>0.353</td>\n",
       "      <td>0.000</td>\n",
       "      <td>0.000</td>\n",
       "      <td>1.555</td>\n",
       "      <td>4</td>\n",
       "      <td>14</td>\n",
       "      <td>0</td>\n",
       "    </tr>\n",
       "    <tr>\n",
       "      <th>4598</th>\n",
       "      <td>0.30</td>\n",
       "      <td>0.00</td>\n",
       "      <td>0.30</td>\n",
       "      <td>0.0</td>\n",
       "      <td>0.00</td>\n",
       "      <td>0.00</td>\n",
       "      <td>0.00</td>\n",
       "      <td>0.00</td>\n",
       "      <td>0.00</td>\n",
       "      <td>0.00</td>\n",
       "      <td>...</td>\n",
       "      <td>0.102</td>\n",
       "      <td>0.718</td>\n",
       "      <td>0.0</td>\n",
       "      <td>0.000</td>\n",
       "      <td>0.000</td>\n",
       "      <td>0.000</td>\n",
       "      <td>1.404</td>\n",
       "      <td>6</td>\n",
       "      <td>118</td>\n",
       "      <td>0</td>\n",
       "    </tr>\n",
       "    <tr>\n",
       "      <th>4599</th>\n",
       "      <td>0.96</td>\n",
       "      <td>0.00</td>\n",
       "      <td>0.00</td>\n",
       "      <td>0.0</td>\n",
       "      <td>0.32</td>\n",
       "      <td>0.00</td>\n",
       "      <td>0.00</td>\n",
       "      <td>0.00</td>\n",
       "      <td>0.00</td>\n",
       "      <td>0.00</td>\n",
       "      <td>...</td>\n",
       "      <td>0.000</td>\n",
       "      <td>0.057</td>\n",
       "      <td>0.0</td>\n",
       "      <td>0.000</td>\n",
       "      <td>0.000</td>\n",
       "      <td>0.000</td>\n",
       "      <td>1.147</td>\n",
       "      <td>5</td>\n",
       "      <td>78</td>\n",
       "      <td>0</td>\n",
       "    </tr>\n",
       "    <tr>\n",
       "      <th>4600</th>\n",
       "      <td>0.00</td>\n",
       "      <td>0.00</td>\n",
       "      <td>0.65</td>\n",
       "      <td>0.0</td>\n",
       "      <td>0.00</td>\n",
       "      <td>0.00</td>\n",
       "      <td>0.00</td>\n",
       "      <td>0.00</td>\n",
       "      <td>0.00</td>\n",
       "      <td>0.00</td>\n",
       "      <td>...</td>\n",
       "      <td>0.000</td>\n",
       "      <td>0.000</td>\n",
       "      <td>0.0</td>\n",
       "      <td>0.125</td>\n",
       "      <td>0.000</td>\n",
       "      <td>0.000</td>\n",
       "      <td>1.250</td>\n",
       "      <td>5</td>\n",
       "      <td>40</td>\n",
       "      <td>0</td>\n",
       "    </tr>\n",
       "  </tbody>\n",
       "</table>\n",
       "<p>4601 rows × 58 columns</p>\n",
       "</div>"
      ],
      "text/plain": [
       "        0     1     2    3     4     5     6     7     8     9   ...     48  \\\n",
       "0     0.00  0.64  0.64  0.0  0.32  0.00  0.00  0.00  0.00  0.00  ...  0.000   \n",
       "1     0.21  0.28  0.50  0.0  0.14  0.28  0.21  0.07  0.00  0.94  ...  0.000   \n",
       "2     0.06  0.00  0.71  0.0  1.23  0.19  0.19  0.12  0.64  0.25  ...  0.010   \n",
       "3     0.00  0.00  0.00  0.0  0.63  0.00  0.31  0.63  0.31  0.63  ...  0.000   \n",
       "4     0.00  0.00  0.00  0.0  0.63  0.00  0.31  0.63  0.31  0.63  ...  0.000   \n",
       "...    ...   ...   ...  ...   ...   ...   ...   ...   ...   ...  ...    ...   \n",
       "4596  0.31  0.00  0.62  0.0  0.00  0.31  0.00  0.00  0.00  0.00  ...  0.000   \n",
       "4597  0.00  0.00  0.00  0.0  0.00  0.00  0.00  0.00  0.00  0.00  ...  0.000   \n",
       "4598  0.30  0.00  0.30  0.0  0.00  0.00  0.00  0.00  0.00  0.00  ...  0.102   \n",
       "4599  0.96  0.00  0.00  0.0  0.32  0.00  0.00  0.00  0.00  0.00  ...  0.000   \n",
       "4600  0.00  0.00  0.65  0.0  0.00  0.00  0.00  0.00  0.00  0.00  ...  0.000   \n",
       "\n",
       "         49   50     51     52     53     54   55    56  57  \n",
       "0     0.000  0.0  0.778  0.000  0.000  3.756   61   278   1  \n",
       "1     0.132  0.0  0.372  0.180  0.048  5.114  101  1028   1  \n",
       "2     0.143  0.0  0.276  0.184  0.010  9.821  485  2259   1  \n",
       "3     0.137  0.0  0.137  0.000  0.000  3.537   40   191   1  \n",
       "4     0.135  0.0  0.135  0.000  0.000  3.537   40   191   1  \n",
       "...     ...  ...    ...    ...    ...    ...  ...   ...  ..  \n",
       "4596  0.232  0.0  0.000  0.000  0.000  1.142    3    88   0  \n",
       "4597  0.000  0.0  0.353  0.000  0.000  1.555    4    14   0  \n",
       "4598  0.718  0.0  0.000  0.000  0.000  1.404    6   118   0  \n",
       "4599  0.057  0.0  0.000  0.000  0.000  1.147    5    78   0  \n",
       "4600  0.000  0.0  0.125  0.000  0.000  1.250    5    40   0  \n",
       "\n",
       "[4601 rows x 58 columns]"
      ]
     },
     "execution_count": 48,
     "metadata": {},
     "output_type": "execute_result"
    }
   ],
   "source": [
    "spambase_data"
   ]
  },
  {
   "cell_type": "markdown",
   "id": "047c0a49",
   "metadata": {},
   "source": [
    "display the data"
   ]
  },
  {
   "cell_type": "code",
   "execution_count": 93,
   "id": "c1333e85",
   "metadata": {},
   "outputs": [],
   "source": [
    "X = spambase_data.iloc[:, :-1].values\n",
    "y = spambase_data.iloc[:, -1].values\n",
    "X_train, X_test, y_train, y_test = train_test_split(X, y, test_size=0.2, random_state=0)"
   ]
  },
  {
   "cell_type": "markdown",
   "id": "acd6b802",
   "metadata": {},
   "source": [
    "first splitting the data into x and y \n",
    "x = labels , y = target using the iloc mrthod \n",
    "then using the train_test_split function from sklearn to split the data into train and test data (80% training and 20% testing)"
   ]
  },
  {
   "cell_type": "code",
   "execution_count": 94,
   "id": "70eafda3",
   "metadata": {},
   "outputs": [
    {
     "data": {
      "text/plain": [
       "LogisticRegression(max_iter=5000, random_state=0)"
      ]
     },
     "execution_count": 94,
     "metadata": {},
     "output_type": "execute_result"
    }
   ],
   "source": [
    "lr_model = LogisticRegression(max_iter = 5000 , random_state=0)\n",
    "lr_model.fit(X_train, y_train)"
   ]
  },
  {
   "cell_type": "markdown",
   "id": "62ab6264",
   "metadata": {},
   "source": [
    "create an instance of the LogisticRegression model\n",
    "then training the model using the labels and targets from trhe training set"
   ]
  },
  {
   "cell_type": "code",
   "execution_count": 95,
   "id": "04804f76",
   "metadata": {},
   "outputs": [
    {
     "name": "stdout",
     "output_type": "stream",
     "text": [
      "Accuracy: 0.9109663409337676\n"
     ]
    }
   ],
   "source": [
    "y_pred = lr_model.predict(X_test)\n",
    "accuracy = accuracy_score(y_test, y_pred)\n",
    "print(\"Accuracy:\", accuracy)"
   ]
  },
  {
   "cell_type": "markdown",
   "id": "018969af",
   "metadata": {},
   "source": [
    "predict the test set \n",
    "calcuate the accuracy of the model usiong the accuracy_score function\n",
    "display the accuracy"
   ]
  },
  {
   "cell_type": "markdown",
   "id": "11548655",
   "metadata": {},
   "source": [
    "the model is valide with an error rate of 10%"
   ]
  },
  {
   "cell_type": "code",
   "execution_count": 96,
   "id": "6f88fc5d",
   "metadata": {},
   "outputs": [],
   "source": [
    "cross_validation = cross_val_score(lr_model, X, y, cv=5)"
   ]
  },
  {
   "cell_type": "markdown",
   "id": "344675a3",
   "metadata": {},
   "source": [
    "usong the cross_val_score to calculate the cross validation score of the model based on the label(X)and the targets(y) using the cv method that takes 5 which mean that the data will be split into 5 sets each time one will be used for testing and the other four will be used for training"
   ]
  },
  {
   "cell_type": "code",
   "execution_count": 97,
   "id": "3a192c27",
   "metadata": {},
   "outputs": [
    {
     "name": "stdout",
     "output_type": "stream",
     "text": [
      "Cross-validation scores: [0.92073833 0.92826087 0.93152174 0.94673913 0.83478261]\n"
     ]
    }
   ],
   "source": [
    "print(\"Cross-validation scores:\", cross_validation)"
   ]
  },
  {
   "cell_type": "markdown",
   "id": "73887a94",
   "metadata": {},
   "source": [
    "# EXERCICE 02"
   ]
  },
  {
   "cell_type": "code",
   "execution_count": 55,
   "id": "6d7b7528",
   "metadata": {},
   "outputs": [],
   "source": [
    "creditcard_data = pd.read_csv(r'C:/Users/hp/Desktop/study/m1/apprentissage/TP2/TP02_DataSet/creditcard.csv',header=None,low_memory=False)"
   ]
  },
  {
   "cell_type": "markdown",
   "id": "249b5273",
   "metadata": {},
   "source": [
    "reading the data"
   ]
  },
  {
   "cell_type": "code",
   "execution_count": 102,
   "id": "01b5cf49",
   "metadata": {},
   "outputs": [
    {
     "data": {
      "text/html": [
       "<div>\n",
       "<style scoped>\n",
       "    .dataframe tbody tr th:only-of-type {\n",
       "        vertical-align: middle;\n",
       "    }\n",
       "\n",
       "    .dataframe tbody tr th {\n",
       "        vertical-align: top;\n",
       "    }\n",
       "\n",
       "    .dataframe thead th {\n",
       "        text-align: right;\n",
       "    }\n",
       "</style>\n",
       "<table border=\"1\" class=\"dataframe\">\n",
       "  <thead>\n",
       "    <tr style=\"text-align: right;\">\n",
       "      <th></th>\n",
       "      <th>0</th>\n",
       "      <th>1</th>\n",
       "      <th>2</th>\n",
       "      <th>3</th>\n",
       "      <th>4</th>\n",
       "      <th>5</th>\n",
       "      <th>6</th>\n",
       "      <th>7</th>\n",
       "      <th>8</th>\n",
       "      <th>9</th>\n",
       "      <th>...</th>\n",
       "      <th>21</th>\n",
       "      <th>22</th>\n",
       "      <th>23</th>\n",
       "      <th>24</th>\n",
       "      <th>25</th>\n",
       "      <th>26</th>\n",
       "      <th>27</th>\n",
       "      <th>28</th>\n",
       "      <th>29</th>\n",
       "      <th>30</th>\n",
       "    </tr>\n",
       "  </thead>\n",
       "  <tbody>\n",
       "    <tr>\n",
       "      <th>0</th>\n",
       "      <td>Time</td>\n",
       "      <td>V1</td>\n",
       "      <td>V2</td>\n",
       "      <td>V3</td>\n",
       "      <td>V4</td>\n",
       "      <td>V5</td>\n",
       "      <td>V6</td>\n",
       "      <td>V7</td>\n",
       "      <td>V8</td>\n",
       "      <td>V9</td>\n",
       "      <td>...</td>\n",
       "      <td>V21</td>\n",
       "      <td>V22</td>\n",
       "      <td>V23</td>\n",
       "      <td>V24</td>\n",
       "      <td>V25</td>\n",
       "      <td>V26</td>\n",
       "      <td>V27</td>\n",
       "      <td>V28</td>\n",
       "      <td>Amount</td>\n",
       "      <td>Class</td>\n",
       "    </tr>\n",
       "    <tr>\n",
       "      <th>1</th>\n",
       "      <td>0</td>\n",
       "      <td>-1.3598071336738</td>\n",
       "      <td>-0.0727811733098497</td>\n",
       "      <td>2.53634673796914</td>\n",
       "      <td>1.37815522427443</td>\n",
       "      <td>-0.338320769942518</td>\n",
       "      <td>0.462387777762292</td>\n",
       "      <td>0.239598554061257</td>\n",
       "      <td>0.0986979012610507</td>\n",
       "      <td>0.363786969611213</td>\n",
       "      <td>...</td>\n",
       "      <td>-0.018306777944153</td>\n",
       "      <td>0.277837575558899</td>\n",
       "      <td>-0.110473910188767</td>\n",
       "      <td>0.0669280749146731</td>\n",
       "      <td>0.128539358273528</td>\n",
       "      <td>-0.189114843888824</td>\n",
       "      <td>0.133558376740387</td>\n",
       "      <td>-0.0210530534538215</td>\n",
       "      <td>149.62</td>\n",
       "      <td>0</td>\n",
       "    </tr>\n",
       "    <tr>\n",
       "      <th>2</th>\n",
       "      <td>0</td>\n",
       "      <td>1.19185711131486</td>\n",
       "      <td>0.26615071205963</td>\n",
       "      <td>0.16648011335321</td>\n",
       "      <td>0.448154078460911</td>\n",
       "      <td>0.0600176492822243</td>\n",
       "      <td>-0.0823608088155687</td>\n",
       "      <td>-0.0788029833323113</td>\n",
       "      <td>0.0851016549148104</td>\n",
       "      <td>-0.255425128109186</td>\n",
       "      <td>...</td>\n",
       "      <td>-0.225775248033138</td>\n",
       "      <td>-0.638671952771851</td>\n",
       "      <td>0.101288021253234</td>\n",
       "      <td>-0.339846475529127</td>\n",
       "      <td>0.167170404418143</td>\n",
       "      <td>0.125894532368176</td>\n",
       "      <td>-0.00898309914322813</td>\n",
       "      <td>0.0147241691924927</td>\n",
       "      <td>2.69</td>\n",
       "      <td>0</td>\n",
       "    </tr>\n",
       "    <tr>\n",
       "      <th>3</th>\n",
       "      <td>1</td>\n",
       "      <td>-1.35835406159823</td>\n",
       "      <td>-1.34016307473609</td>\n",
       "      <td>1.77320934263119</td>\n",
       "      <td>0.379779593034328</td>\n",
       "      <td>-0.503198133318193</td>\n",
       "      <td>1.80049938079263</td>\n",
       "      <td>0.791460956450422</td>\n",
       "      <td>0.247675786588991</td>\n",
       "      <td>-1.51465432260583</td>\n",
       "      <td>...</td>\n",
       "      <td>0.247998153469754</td>\n",
       "      <td>0.771679401917229</td>\n",
       "      <td>0.909412262347719</td>\n",
       "      <td>-0.689280956490685</td>\n",
       "      <td>-0.327641833735251</td>\n",
       "      <td>-0.139096571514147</td>\n",
       "      <td>-0.0553527940384261</td>\n",
       "      <td>-0.0597518405929204</td>\n",
       "      <td>378.66</td>\n",
       "      <td>0</td>\n",
       "    </tr>\n",
       "    <tr>\n",
       "      <th>4</th>\n",
       "      <td>1</td>\n",
       "      <td>-0.966271711572087</td>\n",
       "      <td>-0.185226008082898</td>\n",
       "      <td>1.79299333957872</td>\n",
       "      <td>-0.863291275036453</td>\n",
       "      <td>-0.0103088796030823</td>\n",
       "      <td>1.24720316752486</td>\n",
       "      <td>0.23760893977178</td>\n",
       "      <td>0.377435874652262</td>\n",
       "      <td>-1.38702406270197</td>\n",
       "      <td>...</td>\n",
       "      <td>-0.108300452035545</td>\n",
       "      <td>0.00527359678253453</td>\n",
       "      <td>-0.190320518742841</td>\n",
       "      <td>-1.17557533186321</td>\n",
       "      <td>0.647376034602038</td>\n",
       "      <td>-0.221928844458407</td>\n",
       "      <td>0.0627228487293033</td>\n",
       "      <td>0.0614576285006353</td>\n",
       "      <td>123.5</td>\n",
       "      <td>0</td>\n",
       "    </tr>\n",
       "    <tr>\n",
       "      <th>...</th>\n",
       "      <td>...</td>\n",
       "      <td>...</td>\n",
       "      <td>...</td>\n",
       "      <td>...</td>\n",
       "      <td>...</td>\n",
       "      <td>...</td>\n",
       "      <td>...</td>\n",
       "      <td>...</td>\n",
       "      <td>...</td>\n",
       "      <td>...</td>\n",
       "      <td>...</td>\n",
       "      <td>...</td>\n",
       "      <td>...</td>\n",
       "      <td>...</td>\n",
       "      <td>...</td>\n",
       "      <td>...</td>\n",
       "      <td>...</td>\n",
       "      <td>...</td>\n",
       "      <td>...</td>\n",
       "      <td>...</td>\n",
       "      <td>...</td>\n",
       "    </tr>\n",
       "    <tr>\n",
       "      <th>284803</th>\n",
       "      <td>172786</td>\n",
       "      <td>-11.8811178854323</td>\n",
       "      <td>10.0717849710003</td>\n",
       "      <td>-9.83478345739033</td>\n",
       "      <td>-2.06665568459413</td>\n",
       "      <td>-5.36447278097585</td>\n",
       "      <td>-2.6068373309456</td>\n",
       "      <td>-4.91821543115252</td>\n",
       "      <td>7.305334020798</td>\n",
       "      <td>1.9144282734458</td>\n",
       "      <td>...</td>\n",
       "      <td>0.213454108437359</td>\n",
       "      <td>0.111863735978609</td>\n",
       "      <td>1.01447989719391</td>\n",
       "      <td>-0.509348453168509</td>\n",
       "      <td>1.4368069070214</td>\n",
       "      <td>0.250034279569581</td>\n",
       "      <td>0.943651171507532</td>\n",
       "      <td>0.823730961486502</td>\n",
       "      <td>0.77</td>\n",
       "      <td>0</td>\n",
       "    </tr>\n",
       "    <tr>\n",
       "      <th>284804</th>\n",
       "      <td>172787</td>\n",
       "      <td>-0.732788670658956</td>\n",
       "      <td>-0.0550804899173326</td>\n",
       "      <td>2.03502974528243</td>\n",
       "      <td>-0.73858858438744</td>\n",
       "      <td>0.868229398914682</td>\n",
       "      <td>1.05841527222565</td>\n",
       "      <td>0.0243296959175797</td>\n",
       "      <td>0.294868698501783</td>\n",
       "      <td>0.584800017281683</td>\n",
       "      <td>...</td>\n",
       "      <td>0.214205341747019</td>\n",
       "      <td>0.924383584903381</td>\n",
       "      <td>0.0124630383316793</td>\n",
       "      <td>-1.01622566867336</td>\n",
       "      <td>-0.606623985854728</td>\n",
       "      <td>-0.395255065710324</td>\n",
       "      <td>0.0684724700405593</td>\n",
       "      <td>-0.0535273892010011</td>\n",
       "      <td>24.79</td>\n",
       "      <td>0</td>\n",
       "    </tr>\n",
       "    <tr>\n",
       "      <th>284805</th>\n",
       "      <td>172788</td>\n",
       "      <td>1.91956500980048</td>\n",
       "      <td>-0.301253845990644</td>\n",
       "      <td>-3.24963981406834</td>\n",
       "      <td>-0.55782812475002</td>\n",
       "      <td>2.63051512011547</td>\n",
       "      <td>3.03126009781428</td>\n",
       "      <td>-0.296826527116156</td>\n",
       "      <td>0.708417184967134</td>\n",
       "      <td>0.432454047632915</td>\n",
       "      <td>...</td>\n",
       "      <td>0.232045035925397</td>\n",
       "      <td>0.57822900992263</td>\n",
       "      <td>-0.0375008550221367</td>\n",
       "      <td>0.640133881346421</td>\n",
       "      <td>0.265745453243744</td>\n",
       "      <td>-0.0873705959041059</td>\n",
       "      <td>0.00445477213829229</td>\n",
       "      <td>-0.0265608285615222</td>\n",
       "      <td>67.88</td>\n",
       "      <td>0</td>\n",
       "    </tr>\n",
       "    <tr>\n",
       "      <th>284806</th>\n",
       "      <td>172788</td>\n",
       "      <td>-0.240440049680947</td>\n",
       "      <td>0.530482513118839</td>\n",
       "      <td>0.702510230095103</td>\n",
       "      <td>0.689799168040973</td>\n",
       "      <td>-0.377961134444982</td>\n",
       "      <td>0.62370772214768</td>\n",
       "      <td>-0.68617998628885</td>\n",
       "      <td>0.679145459790659</td>\n",
       "      <td>0.392086712465972</td>\n",
       "      <td>...</td>\n",
       "      <td>0.265244916386865</td>\n",
       "      <td>0.800048741498139</td>\n",
       "      <td>-0.163297944406659</td>\n",
       "      <td>0.123205243742508</td>\n",
       "      <td>-0.569158864158597</td>\n",
       "      <td>0.546668462188323</td>\n",
       "      <td>0.108820734744839</td>\n",
       "      <td>0.104532821478796</td>\n",
       "      <td>10</td>\n",
       "      <td>0</td>\n",
       "    </tr>\n",
       "    <tr>\n",
       "      <th>284807</th>\n",
       "      <td>172792</td>\n",
       "      <td>-0.53341252200504</td>\n",
       "      <td>-0.189733337002305</td>\n",
       "      <td>0.703337366963779</td>\n",
       "      <td>-0.506271240328258</td>\n",
       "      <td>-0.0125456787599659</td>\n",
       "      <td>-0.649616685713792</td>\n",
       "      <td>1.57700625437629</td>\n",
       "      <td>-0.414650407552662</td>\n",
       "      <td>0.486179505267237</td>\n",
       "      <td>...</td>\n",
       "      <td>0.261057330790975</td>\n",
       "      <td>0.643078437820093</td>\n",
       "      <td>0.376777014169917</td>\n",
       "      <td>0.00879737940024202</td>\n",
       "      <td>-0.473648703898825</td>\n",
       "      <td>-0.818267121041176</td>\n",
       "      <td>-0.00241530880001015</td>\n",
       "      <td>0.0136489143320671</td>\n",
       "      <td>217</td>\n",
       "      <td>0</td>\n",
       "    </tr>\n",
       "  </tbody>\n",
       "</table>\n",
       "<p>284808 rows × 31 columns</p>\n",
       "</div>"
      ],
      "text/plain": [
       "            0                   1                    2                  3   \\\n",
       "0         Time                  V1                   V2                 V3   \n",
       "1            0    -1.3598071336738  -0.0727811733098497   2.53634673796914   \n",
       "2            0    1.19185711131486     0.26615071205963   0.16648011335321   \n",
       "3            1   -1.35835406159823    -1.34016307473609   1.77320934263119   \n",
       "4            1  -0.966271711572087   -0.185226008082898   1.79299333957872   \n",
       "...        ...                 ...                  ...                ...   \n",
       "284803  172786   -11.8811178854323     10.0717849710003  -9.83478345739033   \n",
       "284804  172787  -0.732788670658956  -0.0550804899173326   2.03502974528243   \n",
       "284805  172788    1.91956500980048   -0.301253845990644  -3.24963981406834   \n",
       "284806  172788  -0.240440049680947    0.530482513118839  0.702510230095103   \n",
       "284807  172792   -0.53341252200504   -0.189733337002305  0.703337366963779   \n",
       "\n",
       "                        4                    5                    6   \\\n",
       "0                       V4                   V5                   V6   \n",
       "1         1.37815522427443   -0.338320769942518    0.462387777762292   \n",
       "2        0.448154078460911   0.0600176492822243  -0.0823608088155687   \n",
       "3        0.379779593034328   -0.503198133318193     1.80049938079263   \n",
       "4       -0.863291275036453  -0.0103088796030823     1.24720316752486   \n",
       "...                    ...                  ...                  ...   \n",
       "284803   -2.06665568459413    -5.36447278097585     -2.6068373309456   \n",
       "284804   -0.73858858438744    0.868229398914682     1.05841527222565   \n",
       "284805   -0.55782812475002     2.63051512011547     3.03126009781428   \n",
       "284806   0.689799168040973   -0.377961134444982     0.62370772214768   \n",
       "284807  -0.506271240328258  -0.0125456787599659   -0.649616685713792   \n",
       "\n",
       "                         7                   8                   9   ...  \\\n",
       "0                        V7                  V8                  V9  ...   \n",
       "1         0.239598554061257  0.0986979012610507   0.363786969611213  ...   \n",
       "2       -0.0788029833323113  0.0851016549148104  -0.255425128109186  ...   \n",
       "3         0.791460956450422   0.247675786588991   -1.51465432260583  ...   \n",
       "4          0.23760893977178   0.377435874652262   -1.38702406270197  ...   \n",
       "...                     ...                 ...                 ...  ...   \n",
       "284803    -4.91821543115252      7.305334020798     1.9144282734458  ...   \n",
       "284804   0.0243296959175797   0.294868698501783   0.584800017281683  ...   \n",
       "284805   -0.296826527116156   0.708417184967134   0.432454047632915  ...   \n",
       "284806    -0.68617998628885   0.679145459790659   0.392086712465972  ...   \n",
       "284807     1.57700625437629  -0.414650407552662   0.486179505267237  ...   \n",
       "\n",
       "                        21                   22                   23  \\\n",
       "0                      V21                  V22                  V23   \n",
       "1       -0.018306777944153    0.277837575558899   -0.110473910188767   \n",
       "2       -0.225775248033138   -0.638671952771851    0.101288021253234   \n",
       "3        0.247998153469754    0.771679401917229    0.909412262347719   \n",
       "4       -0.108300452035545  0.00527359678253453   -0.190320518742841   \n",
       "...                    ...                  ...                  ...   \n",
       "284803   0.213454108437359    0.111863735978609     1.01447989719391   \n",
       "284804   0.214205341747019    0.924383584903381   0.0124630383316793   \n",
       "284805   0.232045035925397     0.57822900992263  -0.0375008550221367   \n",
       "284806   0.265244916386865    0.800048741498139   -0.163297944406659   \n",
       "284807   0.261057330790975    0.643078437820093    0.376777014169917   \n",
       "\n",
       "                         24                  25                   26  \\\n",
       "0                       V24                 V25                  V26   \n",
       "1        0.0669280749146731   0.128539358273528   -0.189114843888824   \n",
       "2        -0.339846475529127   0.167170404418143    0.125894532368176   \n",
       "3        -0.689280956490685  -0.327641833735251   -0.139096571514147   \n",
       "4         -1.17557533186321   0.647376034602038   -0.221928844458407   \n",
       "...                     ...                 ...                  ...   \n",
       "284803   -0.509348453168509     1.4368069070214    0.250034279569581   \n",
       "284804    -1.01622566867336  -0.606623985854728   -0.395255065710324   \n",
       "284805    0.640133881346421   0.265745453243744  -0.0873705959041059   \n",
       "284806    0.123205243742508  -0.569158864158597    0.546668462188323   \n",
       "284807  0.00879737940024202  -0.473648703898825   -0.818267121041176   \n",
       "\n",
       "                          27                   28      29     30  \n",
       "0                        V27                  V28  Amount  Class  \n",
       "1          0.133558376740387  -0.0210530534538215  149.62      0  \n",
       "2       -0.00898309914322813   0.0147241691924927    2.69      0  \n",
       "3        -0.0553527940384261  -0.0597518405929204  378.66      0  \n",
       "4         0.0627228487293033   0.0614576285006353   123.5      0  \n",
       "...                      ...                  ...     ...    ...  \n",
       "284803     0.943651171507532    0.823730961486502    0.77      0  \n",
       "284804    0.0684724700405593  -0.0535273892010011   24.79      0  \n",
       "284805   0.00445477213829229  -0.0265608285615222   67.88      0  \n",
       "284806     0.108820734744839    0.104532821478796      10      0  \n",
       "284807  -0.00241530880001015   0.0136489143320671     217      0  \n",
       "\n",
       "[284808 rows x 31 columns]"
      ]
     },
     "execution_count": 102,
     "metadata": {},
     "output_type": "execute_result"
    }
   ],
   "source": [
    "creditcard_data"
   ]
  },
  {
   "cell_type": "markdown",
   "id": "6a161026",
   "metadata": {},
   "source": [
    "display the data"
   ]
  },
  {
   "cell_type": "code",
   "execution_count": 103,
   "id": "27353c66",
   "metadata": {},
   "outputs": [],
   "source": [
    "credit_card_comp_data = creditcard_data.iloc[:,29:31].drop(0).astype(float)"
   ]
  },
  {
   "cell_type": "code",
   "execution_count": 91,
   "id": "2ad8b221",
   "metadata": {},
   "outputs": [],
   "source": [
    "grouped_data = credit_card_comp_data.groupby(30)[29].mean()"
   ]
  },
  {
   "cell_type": "markdown",
   "id": "65d3217c",
   "metadata": {},
   "source": [
    "specify the amount and class columns removing the first row ad grouping the amount by the class "
   ]
  },
  {
   "cell_type": "code",
   "execution_count": 92,
   "id": "3878149c",
   "metadata": {
    "scrolled": true
   },
   "outputs": [
    {
     "data": {
      "text/plain": [
       "30\n",
       "0.0     88.291022\n",
       "1.0    122.211321\n",
       "Name: 29, dtype: float64"
      ]
     },
     "execution_count": 92,
     "metadata": {},
     "output_type": "execute_result"
    }
   ],
   "source": [
    "grouped_data"
   ]
  },
  {
   "cell_type": "markdown",
   "id": "2eca00d9",
   "metadata": {},
   "source": [
    "we notice that the values of the amount are on average signifquantly lower"
   ]
  },
  {
   "cell_type": "code",
   "execution_count": 107,
   "id": "4dbab433",
   "metadata": {},
   "outputs": [],
   "source": [
    "X2 = creditcard_data.iloc[1:, :-1].values\n",
    "y2 = creditcard_data.iloc[1:, -1].values\n",
    "X2_train, X2_test, y2_train, y2_test = train_test_split(X2, y2, test_size=0.2, random_state=0)"
   ]
  },
  {
   "cell_type": "markdown",
   "id": "75e5e3c7",
   "metadata": {},
   "source": [
    "split the data into trining and testing data after deletign the first row "
   ]
  },
  {
   "cell_type": "code",
   "execution_count": 108,
   "id": "4691e58c",
   "metadata": {},
   "outputs": [
    {
     "data": {
      "text/plain": [
       "LogisticRegression(max_iter=5000, random_state=0)"
      ]
     },
     "execution_count": 108,
     "metadata": {},
     "output_type": "execute_result"
    }
   ],
   "source": [
    "lr_model_2 = LogisticRegression(max_iter = 5000 , random_state=0)\n",
    "lr_model_2.fit(X2_train.astype(float), y2_train.astype(float))"
   ]
  },
  {
   "cell_type": "markdown",
   "id": "33588403",
   "metadata": {},
   "source": [
    "creating the model and trining it using the data notice using the astype() method to convert the data type from string to float"
   ]
  },
  {
   "cell_type": "code",
   "execution_count": 111,
   "id": "2ef3d0ef",
   "metadata": {},
   "outputs": [],
   "source": [
    "Y2_pred = lr_model_2.predict(X2_test)"
   ]
  },
  {
   "cell_type": "markdown",
   "id": "15d8caa7",
   "metadata": {},
   "source": [
    "prediction testing set"
   ]
  },
  {
   "cell_type": "code",
   "execution_count": 126,
   "id": "2b5cdd40",
   "metadata": {},
   "outputs": [],
   "source": [
    "from sklearn.metrics import confusion_matrix\n",
    "from sklearn.metrics import precision_score\n",
    "from sklearn.metrics import recall_score\n",
    "from sklearn.metrics import roc_auc_score"
   ]
  },
  {
   "cell_type": "markdown",
   "id": "2411cbb8",
   "metadata": {},
   "source": [
    "importing the validation methods"
   ]
  },
  {
   "cell_type": "code",
   "execution_count": 127,
   "id": "c0bbf429",
   "metadata": {},
   "outputs": [],
   "source": [
    "cm = confusion_matrix(y2_test.astype(float), Y2_pred)\n",
    "accuracy2 = accuracy_score(y2_test.astype(float), Y2_pred)\n",
    "precision = precision_score(y2_test.astype(float), Y2_pred)\n",
    "recall = recall_score(y2_test.astype(float), Y2_pred)\n",
    "auc = roc_auc_score(y2_test.astype(float), Y2_pred)"
   ]
  },
  {
   "cell_type": "code",
   "execution_count": 128,
   "id": "2a8bfd58",
   "metadata": {},
   "outputs": [
    {
     "data": {
      "text/plain": [
       "(array([[56853,     8],\n",
       "        [   44,    57]], dtype=int64),\n",
       " 0.9990871107053826,\n",
       " 0.8769230769230769,\n",
       " 0.5643564356435643,\n",
       " 0.7821078708352712)"
      ]
     },
     "execution_count": 128,
     "metadata": {},
     "output_type": "execute_result"
    }
   ],
   "source": [
    "cm ,accuracy2,precision,recall,auc"
   ]
  },
  {
   "cell_type": "markdown",
   "id": "06c9c5a0",
   "metadata": {},
   "source": [
    "validating the model "
   ]
  },
  {
   "cell_type": "markdown",
   "id": "a58cdab3",
   "metadata": {},
   "source": [
    "# EXERCICE 03"
   ]
  },
  {
   "cell_type": "code",
   "execution_count": 130,
   "id": "fc8b4829",
   "metadata": {},
   "outputs": [],
   "source": [
    "malicious_phish = pd.read_csv(r'C:/Users/hp/Desktop/study/m1/apprentissage/TP2/TP02_DataSet/malicious_phish.csv',header=None)"
   ]
  },
  {
   "cell_type": "markdown",
   "id": "bd8c97ea",
   "metadata": {},
   "source": [
    "load the data"
   ]
  },
  {
   "cell_type": "code",
   "execution_count": 131,
   "id": "eb8a4b96",
   "metadata": {},
   "outputs": [
    {
     "data": {
      "text/html": [
       "<div>\n",
       "<style scoped>\n",
       "    .dataframe tbody tr th:only-of-type {\n",
       "        vertical-align: middle;\n",
       "    }\n",
       "\n",
       "    .dataframe tbody tr th {\n",
       "        vertical-align: top;\n",
       "    }\n",
       "\n",
       "    .dataframe thead th {\n",
       "        text-align: right;\n",
       "    }\n",
       "</style>\n",
       "<table border=\"1\" class=\"dataframe\">\n",
       "  <thead>\n",
       "    <tr style=\"text-align: right;\">\n",
       "      <th></th>\n",
       "      <th>0</th>\n",
       "      <th>1</th>\n",
       "    </tr>\n",
       "  </thead>\n",
       "  <tbody>\n",
       "    <tr>\n",
       "      <th>0</th>\n",
       "      <td>url</td>\n",
       "      <td>type</td>\n",
       "    </tr>\n",
       "    <tr>\n",
       "      <th>1</th>\n",
       "      <td>br-icloud.com.br</td>\n",
       "      <td>phishing</td>\n",
       "    </tr>\n",
       "    <tr>\n",
       "      <th>2</th>\n",
       "      <td>mp3raid.com/music/krizz_kaliko.html</td>\n",
       "      <td>benign</td>\n",
       "    </tr>\n",
       "    <tr>\n",
       "      <th>3</th>\n",
       "      <td>bopsecrets.org/rexroth/cr/1.htm</td>\n",
       "      <td>benign</td>\n",
       "    </tr>\n",
       "    <tr>\n",
       "      <th>4</th>\n",
       "      <td>http://www.garage-pirenne.be/index.php?option=...</td>\n",
       "      <td>defacement</td>\n",
       "    </tr>\n",
       "    <tr>\n",
       "      <th>...</th>\n",
       "      <td>...</td>\n",
       "      <td>...</td>\n",
       "    </tr>\n",
       "    <tr>\n",
       "      <th>651187</th>\n",
       "      <td>xbox360.ign.com/objects/850/850402.html</td>\n",
       "      <td>phishing</td>\n",
       "    </tr>\n",
       "    <tr>\n",
       "      <th>651188</th>\n",
       "      <td>games.teamxbox.com/xbox-360/1860/Dead-Space/</td>\n",
       "      <td>phishing</td>\n",
       "    </tr>\n",
       "    <tr>\n",
       "      <th>651189</th>\n",
       "      <td>www.gamespot.com/xbox360/action/deadspace/</td>\n",
       "      <td>phishing</td>\n",
       "    </tr>\n",
       "    <tr>\n",
       "      <th>651190</th>\n",
       "      <td>en.wikipedia.org/wiki/Dead_Space_(video_game)</td>\n",
       "      <td>phishing</td>\n",
       "    </tr>\n",
       "    <tr>\n",
       "      <th>651191</th>\n",
       "      <td>www.angelfire.com/goth/devilmaycrytonite/</td>\n",
       "      <td>phishing</td>\n",
       "    </tr>\n",
       "  </tbody>\n",
       "</table>\n",
       "<p>651192 rows × 2 columns</p>\n",
       "</div>"
      ],
      "text/plain": [
       "                                                        0           1\n",
       "0                                                     url        type\n",
       "1                                        br-icloud.com.br    phishing\n",
       "2                     mp3raid.com/music/krizz_kaliko.html      benign\n",
       "3                         bopsecrets.org/rexroth/cr/1.htm      benign\n",
       "4       http://www.garage-pirenne.be/index.php?option=...  defacement\n",
       "...                                                   ...         ...\n",
       "651187            xbox360.ign.com/objects/850/850402.html    phishing\n",
       "651188       games.teamxbox.com/xbox-360/1860/Dead-Space/    phishing\n",
       "651189         www.gamespot.com/xbox360/action/deadspace/    phishing\n",
       "651190      en.wikipedia.org/wiki/Dead_Space_(video_game)    phishing\n",
       "651191          www.angelfire.com/goth/devilmaycrytonite/    phishing\n",
       "\n",
       "[651192 rows x 2 columns]"
      ]
     },
     "execution_count": 131,
     "metadata": {},
     "output_type": "execute_result"
    }
   ],
   "source": [
    "malicious_phish"
   ]
  },
  {
   "cell_type": "code",
   "execution_count": 142,
   "id": "32ab49d0",
   "metadata": {},
   "outputs": [],
   "source": [
    "from sklearn.feature_extraction.text import CountVectorizer"
   ]
  },
  {
   "cell_type": "code",
   "execution_count": 144,
   "id": "e12bf71a",
   "metadata": {},
   "outputs": [],
   "source": [
    "vectorizer = CountVectorizer()"
   ]
  },
  {
   "cell_type": "code",
   "execution_count": 148,
   "id": "d7fbecba",
   "metadata": {},
   "outputs": [],
   "source": [
    "X3 = vectorizer.fit_transform(malicious_phish.iloc[1:,0].values)\n",
    "y3 = malicious_phish.iloc[1:,1].values\n",
    "X3_train, X3_test, y3_train, y3_test = train_test_split(X3, y3, test_size=0.2, random_state=0)"
   ]
  },
  {
   "cell_type": "markdown",
   "id": "437bbc80",
   "metadata": {},
   "source": [
    "vectorizer.fit_transform() function takes the url data and provide a numerical representation for the training model , \n",
    "split the data into test and train data"
   ]
  },
  {
   "cell_type": "code",
   "execution_count": null,
   "id": "ff78bb8a",
   "metadata": {},
   "outputs": [],
   "source": [
    "lr_model_3 = LogisticRegression(max_iter = 5000 , random_state=0)\n",
    "lr_model_3.fit(X3_train, y3_train)"
   ]
  },
  {
   "cell_type": "markdown",
   "id": "376212cf",
   "metadata": {},
   "source": [
    "train the model "
   ]
  },
  {
   "cell_type": "code",
   "execution_count": null,
   "id": "3c4a88bf",
   "metadata": {},
   "outputs": [],
   "source": [
    "Y3_pred = lr_model_3.predict(X3_test)\n",
    "cm3 = confusion_matrix(y3_test, Y3_pred)\n",
    "accuracy3 = accuracy_score(y3_test, Y3_pred)\n",
    "cm3,accuracy3"
   ]
  },
  {
   "cell_type": "markdown",
   "id": "355f754b",
   "metadata": {},
   "source": [
    "predict the test set and validating the model usong confusion matrix and accuracy validator"
   ]
  }
 ],
 "metadata": {
  "kernelspec": {
   "display_name": "Python 3 (ipykernel)",
   "language": "python",
   "name": "python3"
  },
  "language_info": {
   "codemirror_mode": {
    "name": "ipython",
    "version": 3
   },
   "file_extension": ".py",
   "mimetype": "text/x-python",
   "name": "python",
   "nbconvert_exporter": "python",
   "pygments_lexer": "ipython3",
   "version": "3.9.7"
  }
 },
 "nbformat": 4,
 "nbformat_minor": 5
}
